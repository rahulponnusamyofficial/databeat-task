{
  "cells": [
    {
      "cell_type": "markdown",
      "metadata": {
        "id": "H2FAW1JGfee1"
      },
      "source": [
        "## **Linear Regression**"
      ]
    },
    {
      "cell_type": "code",
      "execution_count": null,
      "metadata": {
        "id": "Xz1M968qfjAK"
      },
      "outputs": [],
      "source": [
        "import pandas as pd\n",
        "import numpy as np\n",
        "#from sklearn.datasets import load_boston\n",
        "import matplotlib.pyplot as plt"
      ]
    },
    {
      "cell_type": "code",
      "execution_count": null,
      "metadata": {
        "colab": {
          "base_uri": "https://localhost:8080/"
        },
        "id": "oWpHtxfIfj23",
        "outputId": "ec3f6dbf-e9cf-4076-89bc-6248e314a58d"
      },
      "outputs": [
        {
          "name": "stdout",
          "output_type": "stream",
          "text": [
            "   fixed acidity  volatile acidity  citric acid  residual sugar  chlorides  \\\n",
            "0            7.4              0.70         0.00             1.9      0.076   \n",
            "1            7.8              0.88         0.00             2.6      0.098   \n",
            "2            7.8              0.76         0.04             2.3      0.092   \n",
            "3           11.2              0.28         0.56             1.9      0.075   \n",
            "4            7.4              0.70         0.00             1.9      0.076   \n",
            "\n",
            "   free sulfur dioxide  total sulfur dioxide  density    pH  sulphates  \\\n",
            "0                 11.0                  34.0   0.9978  3.51       0.56   \n",
            "1                 25.0                  67.0   0.9968  3.20       0.68   \n",
            "2                 15.0                  54.0   0.9970  3.26       0.65   \n",
            "3                 17.0                  60.0   0.9980  3.16       0.58   \n",
            "4                 11.0                  34.0   0.9978  3.51       0.56   \n",
            "\n",
            "   alcohol  quality  \n",
            "0      9.4        5  \n",
            "1      9.8        5  \n",
            "2      9.8        5  \n",
            "3      9.8        6  \n",
            "4      9.4        5  \n",
            "Index(['fixed acidity', 'volatile acidity', 'citric acid', 'residual sugar',\n",
            "       'chlorides', 'free sulfur dioxide', 'total sulfur dioxide', 'density',\n",
            "       'pH', 'sulphates', 'alcohol', 'quality'],\n",
            "      dtype='object')\n"
          ]
        }
      ],
      "source": [
        "dataset = pd.read_csv(\"https://archive.ics.uci.edu/ml/machine-learning-databases/wine-quality/winequality-red.csv\", sep = ';')\n",
        "\n",
        "\n",
        "print(dataset.head())\n",
        "print(dataset.columns)"
      ]
    },
    {
      "cell_type": "code",
      "execution_count": null,
      "metadata": {
        "colab": {
          "base_uri": "https://localhost:8080/"
        },
        "id": "aS-RXOLsfo_g",
        "outputId": "a24ee4a3-92fa-4cb0-cbd7-24c3021c4d03"
      },
      "outputs": [
        {
          "name": "stdout",
          "output_type": "stream",
          "text": [
            "Total samples in our dataset is: 1599\n"
          ]
        }
      ],
      "source": [
        "X = dataset.iloc[:,:-1]\n",
        "y = dataset.iloc[:,-1]\n",
        "\n",
        "print(\"Total samples in our dataset is: {}\".format(X.shape[0]))"
      ]
    },
    {
      "cell_type": "code",
      "execution_count": null,
      "metadata": {
        "id": "H5xcYkLGfzRw"
      },
      "outputs": [],
      "source": [
        "from sklearn.preprocessing import StandardScaler\n",
        "sc=StandardScaler()\n",
        "X_transform=sc.fit_transform(X)"
      ]
    },
    {
      "cell_type": "code",
      "execution_count": null,
      "metadata": {
        "id": "IVYbs62Xlhl0"
      },
      "outputs": [],
      "source": [
        "\n",
        "weight_vector= np.random.randint(X.shape[1])\n",
        "intercept=0\n",
        "learning_rate = 0.001"
      ]
    },
    {
      "cell_type": "code",
      "execution_count": null,
      "metadata": {
        "id": "C2iL5aq3m3Sk"
      },
      "outputs": [],
      "source": [
        "def predicted_y(weight,x,intercept):\n",
        "    y_lst=[]\n",
        "    for i in range(len(x)):\n",
        "        y_lst.append(weight@x[i]+intercept)\n",
        "    return np.array(y_lst)\n",
        "    \n",
        "\n",
        "# linear loss\n",
        "def loss(y,y_predicted):\n",
        "    n=len(y)\n",
        "    s=0\n",
        "    for i in range(n):\n",
        "        s+=(y[i]-y_predicted[i])**2\n",
        "    return (1/n)*s\n",
        "\n",
        "#derivative of loss w.r.t weight\n",
        "def dldw(x,y,y_predicted):\n",
        "    s=0\n",
        "    n=len(y)\n",
        "    for i in range(n):\n",
        "        s+=-x[i]*(y[i]-y_predicted[i])\n",
        "    return (2/n)*s\n",
        "    \n",
        "\n",
        "# derivative of loss w.r.t bias\n",
        "def dldb(y,y_predicted):\n",
        "    n=len(y)\n",
        "    s=0\n",
        "    for i in range(len(y)):\n",
        "        s+=-(y[i]-y_predicted[i])\n",
        "    return (2/n) * s\n",
        "   \n",
        "\n",
        "   \n",
        "        \n",
        "        \n",
        "# gradient function\n",
        "def gradient_descent(x,y):\n",
        "    weight_vector=np.random.randn(x.shape[1])\n",
        "    intercept=0\n",
        "    epoch = 2000\n",
        "    n = len(x)\n",
        "    linear_loss=[]\n",
        "    learning_rate = 0.001\n",
        "\n",
        "    for i in range(epoch):\n",
        "        \n",
        "        \n",
        "        y_predicted = predicted_y(weight_vector,x,intercept)\n",
        "        \n",
        "        weight_vector = weight_vector - learning_rate *dldw(x,y,y_predicted) \n",
        "        \n",
        "        \n",
        "        intercept = intercept - learning_rate * dldb(y,y_predicted)\n",
        "        linear_loss.append(loss(y,y_predicted))\n",
        "        \n",
        "    plt.plot(np.arange(1,epoch),linear_loss[1:])\n",
        "    plt.xlabel(\"number of epoch\")\n",
        "    plt.ylabel(\"loss\")\n",
        "    \n",
        "    return weight_vector,intercept"
      ]
    },
    {
      "cell_type": "code",
      "execution_count": null,
      "metadata": {
        "colab": {
          "base_uri": "https://localhost:8080/",
          "height": 279
        },
        "id": "uuKajSplnWhI",
        "outputId": "1058c151-2225-4757-aa01-2c81f12be49a"
      },
      "outputs": [
        {
          "data": {
            "image/png": "[encoded data removed]",
            "text/plain": [
              "<Figure size 432x288 with 1 Axes>"
            ]
          },
          "metadata": {
            "needs_background": "light"
          },
          "output_type": "display_data"
        }
      ],
      "source": [
        "w,b=gradient_descent(X_transform,y)"
      ]
    },
    {
      "cell_type": "code",
      "execution_count": null,
      "metadata": {
        "id": "u9OhItNknjSq"
      },
      "outputs": [],
      "source": []
    },
    {
      "cell_type": "markdown",
      "metadata": {
        "id": "KWq9eECZs5bt"
      },
      "source": [
        "## **Matrix Problem**"
      ]
    },
    {
      "cell_type": "code",
      "execution_count": 1,
      "metadata": {
        "id": "QX1tDd_1s8nh"
      },
      "outputs": [],
      "source": [
        "input = [[1,0,1,0,1],\n",
        "        [0,1,0,1,0],\n",
        "        [0,1,1,1,0],\n",
        "        [0,1,0,1,0],\n",
        "        [1,0,1,0,1]]"
      ]
    },
    {
      "cell_type": "code",
      "execution_count": 2,
      "metadata": {
        "colab": {
          "base_uri": "https://localhost:8080/"
        },
        "id": "HJrp4dOcCW2d",
        "outputId": "549ced20-d1e7-47c9-ff31-bd3ad5dd4231"
      },
      "outputs": [
        {
          "name": "stdout",
          "output_type": "stream",
          "text": [
            "[1, 0, 1, 0, 1]\n",
            "[0, 1, 0, 1, 0]\n",
            "[0, 1, 1, 1, 0]\n",
            "[0, 1, 0, 1, 0]\n",
            "[1, 0, 1, 0, 1]\n"
          ]
        },
        {
          "data": {
            "text/plain": [
              "13"
            ]
          },
          "execution_count": 2,
          "metadata": {},
          "output_type": "execute_result"
        }
      ],
      "source": [
        "num_components = 0\n",
        "for k in input:\n",
        "    print(k)\n",
        "    num_components += sum(k)\n",
        "num_components"
      ]
    },
    {
      "cell_type": "code",
      "execution_count": 3,
      "metadata": {
        "colab": {
          "base_uri": "https://localhost:8080/"
        },
        "id": "Oq3U_zLuCYj2",
        "outputId": "1ebfcf4f-145c-4b41-ad99-2efcbb490829"
      },
      "outputs": [
        {
          "data": {
            "text/plain": [
              "5"
            ]
          },
          "execution_count": 3,
          "metadata": {},
          "output_type": "execute_result"
        }
      ],
      "source": [
        "len(input[0])"
      ]
    },
    {
      "cell_type": "code",
      "execution_count": 4,
      "metadata": {
        "colab": {
          "base_uri": "https://localhost:8080/"
        },
        "id": "WaSf_3s7CZIb",
        "outputId": "ba9d8315-c4dd-451b-c02d-e70f9fdaff7a"
      },
      "outputs": [
        {
          "name": "stdout",
          "output_type": "stream",
          "text": [
            "0\n",
            "1\n",
            "2\n",
            "3\n",
            "0\n",
            "1\n",
            "2\n",
            "3\n",
            "0\n",
            "1\n",
            "2\n",
            "3\n",
            "0\n",
            "1\n",
            "2\n",
            "3\n",
            "0\n",
            "1\n",
            "2\n",
            "3\n"
          ]
        }
      ],
      "source": [
        "for i in range(len(input)):\n",
        "    for j in range(len(input[i])-1):\n",
        "        print(j)"
      ]
    },
    {
      "cell_type": "code",
      "execution_count": 5,
      "metadata": {
        "colab": {
          "base_uri": "https://localhost:8080/"
        },
        "id": "7lcxrUVUCaFq",
        "outputId": "2cb0b602-20f9-4ff9-fef8-5b2d6749d3df"
      },
      "outputs": [
        {
          "name": "stdout",
          "output_type": "stream",
          "text": [
            "[1, 0, 1, 0, 1]\n",
            "[0, 1, 0, 1, 0]\n",
            "[0, 1, 1, 1, 0]\n",
            "[0, 1, 0, 1, 0]\n",
            "[1, 0, 1, 0, 1]\n"
          ]
        },
        {
          "data": {
            "text/plain": [
              "13"
            ]
          },
          "execution_count": 5,
          "metadata": {},
          "output_type": "execute_result"
        }
      ],
      "source": [
        "num_components = 0\n",
        "for k in input:\n",
        "    print(k)\n",
        "    num_components += sum(k)\n",
        "num_components"
      ]
    },
    {
      "cell_type": "code",
      "execution_count": 6,
      "metadata": {
        "colab": {
          "base_uri": "https://localhost:8080/"
        },
        "id": "5A1SphtSCaDc",
        "outputId": "5f593832-8801-490c-bdbb-23b5f82561e6"
      },
      "outputs": [
        {
          "data": {
            "text/plain": [
              "11"
            ]
          },
          "execution_count": 6,
          "metadata": {},
          "output_type": "execute_result"
        }
      ],
      "source": [
        "#\n",
        "def num_horizontal(input, num_h):\n",
        "    for i in range(len(input)):\n",
        "        for j in range(len(input[i])-1):\n",
        "            if input[i][j] == 1:\n",
        "                if input[i][j+1] == 1:\n",
        "                    num_h -= 1\n",
        "    return num_h\n",
        "h = num_horizontal(input, num_components)\n",
        "h"
      ]
    },
    {
      "cell_type": "code",
      "execution_count": 7,
      "metadata": {
        "colab": {
          "base_uri": "https://localhost:8080/"
        },
        "id": "Ana27Z_PCaBF",
        "outputId": "b24a8bc5-49eb-4562-e146-d9c1d7d9e809"
      },
      "outputs": [
        {
          "data": {
            "text/plain": [
              "11"
            ]
          },
          "execution_count": 7,
          "metadata": {},
          "output_type": "execute_result"
        }
      ],
      "source": [
        "def num_vertical(input, num_v):\n",
        "    for i in range(len(input)-1):\n",
        "        for j in range(len(input[i])):\n",
        "            if input[i][j] == 1:\n",
        "                if input[i+1][j] == 1:\n",
        "                    num_v -= 1\n",
        "    return num_v\n",
        "v = num_horizontal(input, num_components)\n",
        "v"
      ]
    },
    {
      "cell_type": "code",
      "execution_count": 8,
      "metadata": {
        "colab": {
          "base_uri": "https://localhost:8080/"
        },
        "id": "CqkYG1SMCZ-o",
        "outputId": "bb26bdbc-7058-4d4b-d738-b0accc9bec77"
      },
      "outputs": [
        {
          "data": {
            "text/plain": [
              "8"
            ]
          },
          "execution_count": 8,
          "metadata": {},
          "output_type": "execute_result"
        }
      ],
      "source": [
        "def num_hv(input, num_hv):\n",
        "    for i in range(len(input)-1):\n",
        "        for j in range(len(input[i])-1):\n",
        "            if input[i][j] == 1:\n",
        "                if input[i+1][j] == 1:\n",
        "                    num_hv -= 1\n",
        "                elif input[i][j+1] == 1:\n",
        "                    num_hv -= 1\n",
        "    return num_hv\n",
        "hv = num_hv(input, num_components)\n",
        "hv"
      ]
    },
    {
      "cell_type": "code",
      "execution_count": null,
      "metadata": {
        "id": "V-SB6q5pCZ8o"
      },
      "outputs": [],
      "source": [
        "def num_diagonal(input, num_d):\n",
        "    for i in range(1,len(input)-1):\n",
        "        for j in range(1,len(input[i])-1):\n",
        "            if input[i][j] == 1:\n",
        "                if input[i+1][j+1] == 1:\n",
        "                    num_d -= 1\n",
        "                elif input[i+1][j-1] == 1:\n",
        "                    num_d -= 1\n",
        "                elif input[i-1][j+1] == 1:\n",
        "                    num_d -= 1\n",
        "                elif input[i-1][j+1] == 1:\n",
        "                    num_d -= 1\n",
        "                else:\n",
        "                    pass\n",
        "    return num_d\n",
        "d = num_diagonal(input, num_components)\n",
        "d"
      ]
    }
  ],
  "metadata": {
    "colab": {
      "name": "Databeats.ipynb",
      "provenance": []
    },
    "kernelspec": {
      "display_name": "Python 3",
      "name": "python3"
    },
    "language_info": {
      "name": "python"
    }
  },
  "nbformat": 4,
  "nbformat_minor": 0
}
