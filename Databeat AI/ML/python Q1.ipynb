{
 "cells": [
  {
   "cell_type": "code",
   "execution_count": null,
   "metadata": {},
   "outputs": [],
   "source": [
    "public static int howManyOrganisms(char[][] image){\n",
    "    int count = 0;\n",
    "    for (int i = 0; i < image.length; i++) {\n",
    "        for (int j = 0; j < image[i].length; j++) {\n",
    "            if(image[i][j] != '-') {\n",
    "                count++;\n",
    "\n",
    "            }\n",
    "            System.out.println();\n",
    "        }\n",
    "        return howManyOrganisms(image, count);\n",
    "    }\n",
    "}"
   ]
  },
  {
   "cell_type": "code",
   "execution_count": null,
   "metadata": {},
   "outputs": [],
   "source": [
    "def components()"
   ]
  },
  {
   "cell_type": "code",
   "execution_count": null,
   "metadata": {},
   "outputs": [],
   "source": [
    "mat = [[0, 1, 0], [1, 1, 0], [0, 1, 0]]\n",
    "A = [[]]\n",
    "visited = [[]] #matrix of booleans, contains the already visited i,j\n",
    "for i in range(1, len(mat)):\n",
    "    for j in range(1, len(mat[i])):\n",
    "       BFS(A[i][j], A, i, j, visited)"
   ]
  },
  {
   "cell_type": "code",
   "execution_count": null,
   "metadata": {},
   "outputs": [],
   "source": [
    "from collections import deque\n",
    " \n",
    " \n",
    "# Below lists detail all eight possible movements from a cell\n",
    "# (top, right, bottom, left, and four diagonal moves)\n",
    "row = [-1, -1, -1, 0, 1, 0, 1, 1]\n",
    "col = [-1, 1, 0, -1, -1, 1, 0, 1]\n",
    " \n",
    " \n",
    "# Function to check if it is safe to go to position (x, y)\n",
    "# from the current position. The function returns false if (x, y)\n",
    "# is not valid matrix coordinates or (x, y) represents water or\n",
    "# position (x, y) is already processed.\n",
    " \n",
    "def isSafe(mat, x, y, processed):\n",
    "    return (x >= 0 and x < len(processed)) and (y >= 0 and y < len(processed[0])) and \\\n",
    "           mat[x][y] == 1 and not processed[x][y]\n",
    " \n",
    " \n",
    "def BFS(mat, processed, i, j):\n",
    " \n",
    "    # create an empty queue and enqueue source node\n",
    "    q = deque()\n",
    "    q.append((i, j))\n",
    " \n",
    "    # mark source node as processed\n",
    "    processed[i][j] = True\n",
    " \n",
    "    # loop till queue is empty\n",
    "    while q:\n",
    "        # dequeue front node and process it\n",
    "        x, y = q.popleft()\n",
    " \n",
    "        # check for all eight possible movements from the current cell\n",
    "        # and enqueue each valid movement\n",
    "        for k in range(len(row)):\n",
    "            # skip if the location is invalid, or already processed, or has water\n",
    "            if isSafe(mat, x + row[k], y + col[k], processed):\n",
    "                # skip if the location is invalid, or it is already\n",
    "                # processed, or consists of water\n",
    "                processed[x + row[k]][y + col[k]] = True\n",
    "                q.append((x + row[k], y + col[k]))\n",
    " \n",
    " \n",
    "def countIslands(mat):\n",
    " \n",
    "    # base case\n",
    "    if not mat or not len(mat):\n",
    "        return 0\n",
    " \n",
    "    # `M × N` matrix\n",
    "    (M, N) = (len(mat), len(mat[0]))\n",
    " \n",
    "    # stores if a cell is processed or not\n",
    "    processed = [[False for x in range(N)] for y in range(M)]\n",
    " \n",
    "    island = 0\n",
    "    for i in range(M):\n",
    "        for j in range(N):\n",
    "            # start BFS from each unprocessed node and increment island count\n",
    "            if mat[i][j] == 1 and not processed[i][j]:\n",
    "                BFS(mat, processed, i, j)\n",
    "                island = island + 1\n",
    " \n",
    "    return island\n",
    " \n",
    " \n",
    " \n",
    "if __name__ == '__main__':\n",
    " \n",
    "    R = int(input())\n",
    "    C = int(input())\n",
    "    \n",
    "    # print(\"Enter the entries in a single line (separated by space): \")\n",
    "    \n",
    "    # User input of entries in a single line separated by space\n",
    "    entries = list(map(int, input().split()))\n",
    "    \n",
    "    # For printing the matrix\n",
    "    matrix = np.array(entries).reshape(R, C)\n",
    "    print(matrix)\n",
    " \n",
    "    print('The total number of islands is', countIslands(matrix))"
   ]
  },
  {
   "cell_type": "code",
   "execution_count": 14,
   "metadata": {},
   "outputs": [
    {
     "name": "stdout",
     "output_type": "stream",
     "text": [
      "[[1 0 1 0 1]\n",
      " [0 1 0 1 0]\n",
      " [0 1 1 1 0]\n",
      " [0 1 0 1 0]\n",
      " [1 0 1 0 1]]\n"
     ]
    }
   ],
   "source": [
    "import numpy as np\n",
    "  \n",
    "R = int(input())\n",
    "C = int(input())\n",
    " \n",
    "# print(\"Enter the entries in a single line (separated by space): \")\n",
    "  \n",
    "# User input of entries in a single line separated by space\n",
    "entries = list(map(int, input().split()))\n",
    "  \n",
    "# For printing the matrix\n",
    "matrix = np.array(entries).reshape(R, C)\n",
    "print(matrix)"
   ]
  }
 ],
 "metadata": {
  "interpreter": {
   "hash": "229a2011311036bf7930f9dd35ed5ec7456a90d8b5099c6c58fec0b2243f8b33"
  },
  "kernelspec": {
   "display_name": "Python 3.10.0 64-bit",
   "language": "python",
   "name": "python3"
  },
  "language_info": {
   "codemirror_mode": {
    "name": "ipython",
    "version": 3
   },
   "file_extension": ".py",
   "mimetype": "text/x-python",
   "name": "python",
   "nbconvert_exporter": "python",
   "pygments_lexer": "ipython3",
   "version": "3.10.0"
  },
  "orig_nbformat": 4
 },
 "nbformat": 4,
 "nbformat_minor": 2
}
