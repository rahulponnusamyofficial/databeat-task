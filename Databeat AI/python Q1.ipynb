{
 "cells": [
  {
   "cell_type": "markdown",
   "metadata": {},
   "source": [
    "# Python\n"
   ]
  },
  {
   "cell_type": "markdown",
   "metadata": {},
   "source": [
    "Q1. Consider a matrix whose cells are filled with 0’s and 1’s. If two 1’s are adjacent to each other,\n",
    "they are said to be connected. A component is defined as a set of one or more 1’s that are\n",
    "adjacent to each other. An adjacency can be of 5 types - horizontal, vertical, diagonal,\n",
    "horizontal_vertical and horizontal_vertical_diagonal. Given a binary matrix, find the total\n",
    "number of components for a given adjacency type."
   ]
  },
  {
   "cell_type": "code",
   "execution_count": null,
   "metadata": {},
   "outputs": [
    {
     "name": "stdout",
     "output_type": "stream",
     "text": [
      "[[1 0 1 0 1]\n",
      " [0 1 0 1 0]\n",
      " [0 1 1 1 0]\n",
      " [0 1 0 1 0]\n",
      " [1 0 1 0 1]]\n"
     ]
    }
   ],
   "source": [
    "import numpy as np\n",
    "  \n",
    "Row = int(input())\n",
    "Col = int(input())\n",
    "\n",
    "# single line separated by space\n",
    "entries = list(map(int, input().split()))\n",
    "  \n",
    "# For printing the matrix\n",
    "matrix = np.array(entries).reshape(Row, Col)\n",
    "print(matrix)"
   ]
  },
  {
   "cell_type": "code",
   "execution_count": null,
   "metadata": {},
   "outputs": [
    {
     "data": {
      "text/plain": [
       "13"
      ]
     },
     "metadata": {},
     "output_type": "display_data"
    }
   ],
   "source": [
    "num_components = 0\n",
    "for i in matrix:\n",
    "    num_components += sum(i)\n",
    "num_components"
   ]
  },
  {
   "cell_type": "code",
   "execution_count": null,
   "metadata": {},
   "outputs": [
    {
     "data": {
      "text/plain": [
       "11"
      ]
     },
     "metadata": {},
     "output_type": "display_data"
    }
   ],
   "source": [
    "# Horizontal adjacency\n",
    "def num_horizontal(input, total_h1):\n",
    "    for i in range(len(input)):\n",
    "        for j in range(len(input[i])-1):\n",
    "            if input[i][j] == 1:\n",
    "                if input[i][j+1] == 1:\n",
    "                    total_h1 -= 1\n",
    "    return total_h1\n",
    "h = num_horizontal(matrix, num_components)\n",
    "h"
   ]
  },
  {
   "cell_type": "code",
   "execution_count": null,
   "metadata": {},
   "outputs": [
    {
     "data": {
      "text/plain": [
       "9"
      ]
     },
     "metadata": {},
     "output_type": "display_data"
    }
   ],
   "source": [
    "# Vertical adjacency\n",
    "def vertical(input, tot_num):\n",
    "    total_v1 = 0\n",
    "    for i in range(len(input)):\n",
    "        for j in range(len(input[i])-1):\n",
    "            if input[j][i] == 1:\n",
    "                if input[i][j+1] == 1:\n",
    "                    total_v1 += 1\n",
    "    return tot_num-total_v1\n",
    "v = vertical(matrix, num_components)\n",
    "v"
   ]
  },
  {
   "cell_type": "code",
   "execution_count": null,
   "metadata": {},
   "outputs": [
    {
     "data": {
      "text/plain": [
       "3"
      ]
     },
     "metadata": {},
     "output_type": "display_data"
    }
   ],
   "source": [
    "# Diagonal adjacency\n",
    "def diagonal(input, tot_num):\n",
    "    total_d1 = 0\n",
    "    for i in range(len(input)):\n",
    "        for j in range(len(input[i])-1):\n",
    "            if input[i][i] == 1:\n",
    "              if input[i-1][j-1] == 1:\n",
    "                total_d1+= 1\n",
    "    return tot_num-total_d1\n",
    "d = diagonal(matrix, num_components)\n",
    "d"
   ]
  },
  {
   "cell_type": "code",
   "execution_count": null,
   "metadata": {},
   "outputs": [
    {
     "data": {
      "text/plain": [
       "7"
      ]
     },
     "metadata": {},
     "output_type": "display_data"
    }
   ],
   "source": [
    "# Horizontal_Vertical adjacency\n",
    "def num_hv(input, tot_num):\n",
    "    total_hv1 = 0\n",
    "    for i in range(len(input)):\n",
    "        for j in range(len(input[i])-1):\n",
    "            if input[i][j] == 1:\n",
    "                if input[i][j+1] == 1:\n",
    "                    total_hv1 += 1\n",
    "            if input[j][i] == 1:\n",
    "                if input[i][j+1] == 1:\n",
    "                    total_hv1 += 1\n",
    "    return tot_num-total_hv1\n",
    "hv = num_hv(matrix, num_components)\n",
    "hv"
   ]
  },
  {
   "cell_type": "code",
   "execution_count": null,
   "metadata": {},
   "outputs": [
    {
     "data": {
      "text/plain": [
       "1"
      ]
     },
     "metadata": {},
     "output_type": "display_data"
    }
   ],
   "source": [
    "# Horizontal_Vertical_Diagonal adjacency\n",
    "def num_hvd(input):\n",
    "    total_hvd1 = 0\n",
    "    for i in range(len(input)):\n",
    "        for j in range(len(input[i])-1):\n",
    "            if input[i-1][j] == 1:\n",
    "                if input[i-1][j-1] == 1:\n",
    "                  if input[i-2][j]==1:\n",
    "                    if input[i-2][j-1]==1:                                    \n",
    "                        total_hvd1 += 1\n",
    "    return total_hvd1\n",
    "hvd = num_hvd(matrix)\n",
    "hvd"
   ]
  }
 ],
 "metadata": {
  "kernelspec": {
   "display_name": "Python 3.10.5 64-bit",
   "language": "python",
   "name": "python3"
  },
  "language_info": {
   "codemirror_mode": {
    "name": "ipython",
    "version": 3
   },
   "file_extension": ".py",
   "mimetype": "text/x-python",
   "name": "python",
   "nbconvert_exporter": "python",
   "pygments_lexer": "ipython3",
   "version": "3.10.5"
  },
  "orig_nbformat": 4,
  "vscode": {
   "interpreter": {
    "hash": "032210c8b03a832ec68c62b94f548581615942970b92ab542ca6d614f231eef3"
   }
  }
 },
 "nbformat": 4,
 "nbformat_minor": 2
}
